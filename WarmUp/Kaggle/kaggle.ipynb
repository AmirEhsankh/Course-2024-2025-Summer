{
  "nbformat": 4,
  "nbformat_minor": 0,
  "metadata": {
    "colab": {
      "provenance": []
    },
    "kernelspec": {
      "name": "python3",
      "display_name": "Python 3"
    },
    "language_info": {
      "name": "python"
    }
  },
  "cells": [
    {
      "cell_type": "code",
      "source": [
        "%%capture\n",
        "!pip install kaggle"
      ],
      "metadata": {
        "id": "-6mmT9SsLtdK"
      },
      "execution_count": null,
      "outputs": []
    },
    {
      "cell_type": "code",
      "source": [
        "from google.colab import drive\n",
        "drive.mount('/content/drive')\n"
      ],
      "metadata": {
        "colab": {
          "base_uri": "https://localhost:8080/"
        },
        "id": "w2jQVsq1L3mc",
        "outputId": "8d2043b7-986b-46bd-d0b8-6e15905b213c"
      },
      "execution_count": null,
      "outputs": [
        {
          "output_type": "stream",
          "name": "stdout",
          "text": [
            "Mounted at /content/drive\n"
          ]
        }
      ]
    },
    {
      "cell_type": "code",
      "source": [
        "import os\n",
        "os.environ['KAGGLE_CONFIG_DIR'] = '/content/drive/MyDrive/Project/kaggle'"
      ],
      "metadata": {
        "id": "l2qyMIAoMCqu"
      },
      "execution_count": null,
      "outputs": []
    },
    {
      "cell_type": "code",
      "source": [
        "%cd /content/drive/MyDrive/Project/kaggle"
      ],
      "metadata": {
        "colab": {
          "base_uri": "https://localhost:8080/"
        },
        "id": "rlSvU4b1MRLB",
        "outputId": "539ea592-e015-4e40-d27d-f55cb688551e"
      },
      "execution_count": null,
      "outputs": [
        {
          "output_type": "stream",
          "name": "stdout",
          "text": [
            "/content/drive/MyDrive/Project/kaggle\n"
          ]
        }
      ]
    },
    {
      "cell_type": "code",
      "source": [
        "!pwd"
      ],
      "metadata": {
        "colab": {
          "base_uri": "https://localhost:8080/"
        },
        "id": "MOziMqfKMUXh",
        "outputId": "441e70d6-e8e8-4e12-aa24-f0bb89db0571"
      },
      "execution_count": null,
      "outputs": [
        {
          "output_type": "stream",
          "name": "stdout",
          "text": [
            "/content/drive/MyDrive/Project/kaggle\n"
          ]
        }
      ]
    },
    {
      "cell_type": "code",
      "source": [
        "!kaggle datasets download -d sarahjeffreson/featured-spotify-artiststracks-with-metadata"
      ],
      "metadata": {
        "colab": {
          "base_uri": "https://localhost:8080/"
        },
        "id": "XmuMHE-oMWky",
        "outputId": "d2a3a6ba-2de8-437c-c0d6-dea814315454"
      },
      "execution_count": null,
      "outputs": [
        {
          "output_type": "stream",
          "name": "stdout",
          "text": [
            "Dataset URL: https://www.kaggle.com/datasets/sarahjeffreson/featured-spotify-artiststracks-with-metadata\n",
            "License(s): ODbL-1.0\n",
            "Downloading featured-spotify-artiststracks-with-metadata.zip to /content/drive/MyDrive/Project/kaggle\n",
            "100% 5.00M/5.02M [00:00<00:00, 48.9MB/s]\n",
            "100% 5.02M/5.02M [00:00<00:00, 46.4MB/s]\n"
          ]
        }
      ]
    },
    {
      "cell_type": "code",
      "source": [
        "%%capture\n",
        "!unzip /content/drive/MyDrive/Project/kaggle/featured-spotify-artiststracks-with-metadata.zip -d /content/drive/MyDrive/Project/dataset"
      ],
      "metadata": {
        "id": "qd7QmTmwM7Ao"
      },
      "execution_count": null,
      "outputs": []
    }
  ]
}