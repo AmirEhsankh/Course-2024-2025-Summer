{
 "cells": [
  {
   "cell_type": "markdown",
   "id": "1aa44ca6",
   "metadata": {},
   "source": [
    "توابع در پایتون"
   ]
  },
  {
   "cell_type": "markdown",
   "id": "d5e5d63d",
   "metadata": {},
   "source": [
    "جمع دو عدد  "
   ]
  },
  {
   "cell_type": "code",
   "execution_count": 5,
   "id": "a4195aa2",
   "metadata": {},
   "outputs": [
    {
     "name": "stdout",
     "output_type": "stream",
     "text": [
      "8\n"
     ]
    }
   ],
   "source": [
    "def add_numbers(a, b):\n",
    "    return a + b\n",
    "\n",
    "# تست تابع\n",
    "print(add_numbers(3, 5))  # خروجی: 8\n"
   ]
  },
  {
   "cell_type": "code",
   "execution_count": null,
   "id": "e1bcd8cb",
   "metadata": {},
   "outputs": [],
   "source": [
    "بررسی زوج یا فرد بودن عدد"
   ]
  },
  {
   "cell_type": "code",
   "execution_count": 6,
   "id": "41799359",
   "metadata": {},
   "outputs": [
    {
     "name": "stdout",
     "output_type": "stream",
     "text": [
      "True\n",
      "False\n"
     ]
    }
   ],
   "source": [
    "def is_even(n):\n",
    "    return n % 2 == 0\n",
    "\n",
    "# تست تابع\n",
    "print(is_even(4))  # خروجی: True\n",
    "print(is_even(7))  # خروجی: False\n"
   ]
  },
  {
   "cell_type": "markdown",
   "id": "fae4d15e",
   "metadata": {},
   "source": [
    "یک تابع به نام `add_numbers` بنویسید که دو عدد را به عنوان ورودی بگیرد و مجموع آنها را برگرداند."
   ]
  },
  {
   "cell_type": "code",
   "execution_count": 4,
   "id": "c95d4f08",
   "metadata": {},
   "outputs": [
    {
     "name": "stdout",
     "output_type": "stream",
     "text": [
      "Hello, Alice!\n",
      "You are 30 years old.\n",
      "You are from USA.\n",
      "Your occupation is Engineer.\n",
      "\n",
      "Hello, Alice!\n",
      "You are 30 years old.\n",
      "You are from Unknown.\n",
      "Your occupation is not provided.\n",
      "\n",
      "Hello, Bob!\n",
      "You are 25 years old.\n",
      "You are from Unknown.\n",
      "Your occupation is Data Scientist.\n",
      "\n",
      "Hello, Charlie!\n",
      "You are 28 years old.\n",
      "You are from Unknown.\n",
      "Your occupation is Designer.\n",
      "\n"
     ]
    }
   ],
   "source": [
    "# تعریف تابع\n",
    "def user_profile(name, age, country=\"Unknown\", occupation=None):\n",
    "    \"\"\"\n",
    "    این تابع اطلاعات یک کاربر را پردازش کرده و یک پیام خوشامدگویی برمی‌گرداند.\n",
    "    \n",
    "    پارامترها:\n",
    "    name (str): نام کاربر\n",
    "    age (int): سن کاربر\n",
    "    country (str): کشور کاربر (آرگومان پیش‌فرض: \"Unknown\")\n",
    "    occupation (str): شغل کاربر (آرگومان اختیاری)\n",
    "    \n",
    "    بازگشت:\n",
    "    str: پیام خوشامدگویی\n",
    "    \"\"\"\n",
    "    # ساخت پیام خوشامدگویی\n",
    "    message = f\"Hello, {name}!\\n\"\n",
    "    message += f\"You are {age} years old.\\n\"\n",
    "    message += f\"You are from {country}.\\n\"\n",
    "    \n",
    "    # بررسی آرگومان اختیاری\n",
    "    if occupation:\n",
    "        message += f\"Your occupation is {occupation}.\\n\"\n",
    "    else:\n",
    "        message += \"Your occupation is not provided.\\n\"\n",
    "    \n",
    "    return message\n",
    "\n",
    "# استفاده از تابع با پارامترها و آرگومان‌ها\n",
    "user_name = \"Alice\"\n",
    "user_age = 30\n",
    "user_country = \"USA\"\n",
    "user_occupation = \"Engineer\"\n",
    "\n",
    "# فراخوانی تابع با تمامی آرگومان‌ها\n",
    "print(user_profile(user_name, user_age, user_country, user_occupation))\n",
    "# Output:\n",
    "# Hello, Alice!\n",
    "# You are 30 years old.\n",
    "# You are from USA.\n",
    "# Your occupation is Engineer.\n",
    "\n",
    "# فراخوانی تابع بدون آرگومان اختیاری\n",
    "print(user_profile(user_name, user_age))\n",
    "# Output:\n",
    "# Hello, Alice!\n",
    "# You are 30 years old.\n",
    "# You are from Unknown.\n",
    "# Your occupation is not provided.\n",
    "\n",
    "# فراخوانی تابع با استفاده از آرگومان‌های کلید-مقدار\n",
    "print(user_profile(name=\"Bob\", age=25, occupation=\"Data Scientist\"))\n",
    "# Output:\n",
    "# Hello, Bob!\n",
    "# You are 25 years old.\n",
    "# You are from Unknown.\n",
    "# Your occupation is Data Scientist.\n",
    "\n",
    "# فراخوانی تابع با استفاده از آرگومان پیش‌فرض برای کشور\n",
    "print(user_profile(\"Charlie\", 28, occupation=\"Designer\"))\n",
    "# Output:\n",
    "# Hello, Charlie!\n",
    "# You are 28 years old.\n",
    "# You are from Unknown.\n",
    "# Your occupation is Designer.\n"
   ]
  },
  {
   "cell_type": "code",
   "execution_count": 7,
   "id": "ddba6ecf",
   "metadata": {},
   "outputs": [
    {
     "name": "stdout",
     "output_type": "stream",
     "text": [
      "16\n",
      "25\n"
     ]
    }
   ],
   "source": [
    "square = lambda x: x ** 2\n",
    "\n",
    "# تست تابع لامبدا\n",
    "print(square(4))  # خروجی: 16\n",
    "print(square(5))  # خروجی: 25\n"
   ]
  },
  {
   "cell_type": "markdown",
   "id": "df22f983",
   "metadata": {},
   "source": [
    "از تابع `map` استفاده کنید تا لیستی از اعداد را گرفته و مربع هر عدد را محاسبه کنید."
   ]
  },
  {
   "cell_type": "code",
   "execution_count": 8,
   "id": "65d34f6c",
   "metadata": {},
   "outputs": [
    {
     "name": "stdout",
     "output_type": "stream",
     "text": [
      "[1, 4, 9, 16, 25]\n"
     ]
    }
   ],
   "source": [
    "numbers = [1, 2, 3, 4, 5]\n",
    "squared_numbers = list(map(lambda x: x ** 2, numbers))\n",
    "\n",
    "# تست تابع\n",
    "print(squared_numbers)  # خروجی: [1, 4, 9, 16, 25]\n"
   ]
  },
  {
   "cell_type": "markdown",
   "id": "24af778d",
   "metadata": {},
   "source": [
    "از تابع `filter` استفاده کنید تا لیستی از اعداد را گرفته و فقط اعداد زوج را برگردانید."
   ]
  },
  {
   "cell_type": "code",
   "execution_count": 9,
   "id": "d16732c6",
   "metadata": {},
   "outputs": [
    {
     "name": "stdout",
     "output_type": "stream",
     "text": [
      "[2, 4, 6, 8, 10]\n"
     ]
    }
   ],
   "source": [
    "numbers = [1, 2, 3, 4, 5, 6, 7, 8, 9, 10]\n",
    "even_numbers = list(filter(lambda x: x % 2 == 0, numbers))\n",
    "\n",
    "# تست تابع\n",
    "print(even_numbers)  # خروجی: [2, 4, 6, 8, 10]\n"
   ]
  },
  {
   "cell_type": "markdown",
   "id": "0be48bb0",
   "metadata": {},
   "source": [
    "از تابع `reduce` استفاده کنید تا لیستی از اعداد را گرفته و حاصل ضرب تمام اعداد را محاسبه کنید."
   ]
  },
  {
   "cell_type": "code",
   "execution_count": 10,
   "id": "c57357a3",
   "metadata": {},
   "outputs": [
    {
     "name": "stdout",
     "output_type": "stream",
     "text": [
      "120\n"
     ]
    }
   ],
   "source": [
    "from functools import reduce\n",
    "\n",
    "numbers = [1, 2, 3, 4, 5]\n",
    "product = reduce(lambda x, y: x * y, numbers)\n",
    "\n",
    "# تست تابع\n",
    "print(product)  # خروجی: 120\n"
   ]
  },
  {
   "cell_type": "code",
   "execution_count": 11,
   "id": "201c6746",
   "metadata": {},
   "outputs": [
    {
     "name": "stdout",
     "output_type": "stream",
     "text": [
      "[(1, 'a'), (2, 'b'), (3, 'c')]\n"
     ]
    }
   ],
   "source": [
    "list1 = [1, 2, 3]\n",
    "list2 = ['a', 'b', 'c']\n",
    "zipped = zip(list1, list2)\n",
    "print(list(zipped))  # Output: [(1, 'a'), (2, 'b'), (3, 'c')]\n"
   ]
  },
  {
   "cell_type": "code",
   "execution_count": 12,
   "id": "9ac1bb61",
   "metadata": {},
   "outputs": [
    {
     "name": "stdout",
     "output_type": "stream",
     "text": [
      "[(0, 'a'), (1, 'b'), (2, 'c')]\n"
     ]
    }
   ],
   "source": [
    "list1 = ['a', 'b', 'c']\n",
    "enumerated = enumerate(list1)\n",
    "print(list(enumerated))  # Output: [(0, 'a'), (1, 'b'), (2, 'c')]\n"
   ]
  },
  {
   "cell_type": "code",
   "execution_count": null,
   "id": "5033f290",
   "metadata": {},
   "outputs": [],
   "source": []
  },
  {
   "cell_type": "markdown",
   "id": "86c5b4ca",
   "metadata": {},
   "source": [
    "یک تابع به نام `greet` بنویسید که یک نام را به عنوان ورودی بگیرد و یک تابع داخلی به نام `message` داشته باشد که یک پیام خوش آمد گویی را برگرداند."
   ]
  },
  {
   "cell_type": "code",
   "execution_count": null,
   "id": "9fa0dc37",
   "metadata": {},
   "outputs": [],
   "source": [
    "def greet(name):\n",
    "    def message():\n",
    "        return f\"Hello, {name}!\"\n",
    "    return message()\n",
    "\n",
    "# تست تابع\n",
    "print(greet(\"Alice\"))  # خروجی: Hello, Alice!\n",
    "print(greet(\"Bob\"))    # خروجی: Hello, Bob!\n"
   ]
  },
  {
   "cell_type": "markdown",
   "id": "2b277587",
   "metadata": {},
   "source": [
    "یک تابع بازگشتی به نام `factorial` بنویسید که فاکتوریل یک عدد را محاسبه کند."
   ]
  },
  {
   "cell_type": "code",
   "execution_count": null,
   "id": "22d6a1b8",
   "metadata": {},
   "outputs": [],
   "source": [
    "def factorial(n):\n",
    "    if n == 0:\n",
    "        return 1\n",
    "    else:\n",
    "        return n * factorial(n - 1)\n",
    "\n",
    "# تست تابع\n",
    "print(factorial(5))  # خروجی: 120\n",
    "print(factorial(6))  # خروجی: 720\n"
   ]
  },
  {
   "cell_type": "markdown",
   "id": "2d034ddd",
   "metadata": {},
   "source": [
    "از ترکیب `map`, `filter` و `reduce` استفاده کنید تا حاصل جمع مربع‌های اعداد زوج یک لیست را محاسبه کنید."
   ]
  },
  {
   "cell_type": "code",
   "execution_count": null,
   "id": "981c3c4a",
   "metadata": {},
   "outputs": [],
   "source": [
    "from functools import reduce\n",
    "\n",
    "numbers = [1, 2, 3, 4, 5, 6, 7, 8, 9, 10]\n",
    "even_numbers = filter(lambda x: x % 2 == 0, numbers)\n",
    "squared_numbers = map(lambda x: x ** 2, even_numbers)\n",
    "sum_of_squares = reduce(lambda x, y: x + y, squared_numbers)\n",
    "\n",
    "# تست تابع\n",
    "print(sum_of_squares)  # خروجی: 220\n"
   ]
  },
  {
   "cell_type": "markdown",
   "id": "f9738a39",
   "metadata": {},
   "source": [
    "یک دکوریتور به نام `uppercase_decorator` بنویسید که متن برگشتی از یک تابع را به حروف بزرگ تبدیل کند."
   ]
  },
  {
   "cell_type": "code",
   "execution_count": null,
   "id": "391d2d13",
   "metadata": {},
   "outputs": [],
   "source": [
    "def uppercase_decorator(func):\n",
    "    def wrapper():\n",
    "        result = func()\n",
    "        return result.upper()\n",
    "    return wrapper\n",
    "\n",
    "@uppercase_decorator\n",
    "def say_hello():\n",
    "    return \"hello world\"\n",
    "\n",
    "# تست دکوریتور\n",
    "print(say_hello())  # خروجی: HELLO WORLD\n"
   ]
  },
  {
   "cell_type": "code",
   "execution_count": null,
   "id": "6f8791b2",
   "metadata": {},
   "outputs": [],
   "source": []
  }
 ],
 "metadata": {
  "kernelspec": {
   "display_name": "Python 3 (ipykernel)",
   "language": "python",
   "name": "python3"
  },
  "language_info": {
   "codemirror_mode": {
    "name": "ipython",
    "version": 3
   },
   "file_extension": ".py",
   "mimetype": "text/x-python",
   "name": "python",
   "nbconvert_exporter": "python",
   "pygments_lexer": "ipython3",
   "version": "3.11.4"
  }
 },
 "nbformat": 4,
 "nbformat_minor": 5
}
